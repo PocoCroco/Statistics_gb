{
 "cells": [
  {
   "cell_type": "markdown",
   "id": "6b9a551d",
   "metadata": {},
   "source": [
    "## Задание 1"
   ]
  },
  {
   "cell_type": "markdown",
   "id": "57182da5",
   "metadata": {},
   "source": [
    "$$ M\\left(X\\right)=\\frac{a+b}{2}=\\frac{800+200}{2}=500 $$"
   ]
  },
  {
   "cell_type": "markdown",
   "id": "2bb8fd8a",
   "metadata": {},
   "source": [
    "$$ D\\left(X\\right)=\\frac{\\left(b-a\\right)^2}{12}=\\frac{\\left(800-200\\right)^2}{12}=30000 $$"
   ]
  },
  {
   "cell_type": "markdown",
   "id": "3d566a6b",
   "metadata": {},
   "source": [
    "## Задание 2"
   ]
  },
  {
   "cell_type": "markdown",
   "id": "c5daee6f",
   "metadata": {},
   "source": [
    "$$ D(X) =\\frac{\\left(b-a\\right)^2}{12} => 0,2=\\frac{\\left(b-0,5\\right)^2}{12} => $$"
   ]
  },
  {
   "cell_type": "markdown",
   "id": "e48503fb",
   "metadata": {},
   "source": [
    "$$ 4b^2-4b+1=48\\cdot 0,2 $$"
   ]
  },
  {
   "cell_type": "markdown",
   "id": "c74c56ed",
   "metadata": {},
   "source": [
    "$$ x_1 = \\frac{1}{2}-\\frac{2\\sqrt{15}}{5} - отрицательная величина $$\n",
    "\n",
    "$$ x_2 = \\frac{1}{2}+\\frac{2\\sqrt{15}}{5}  ≈ 2.05 $$"
   ]
  },
  {
   "cell_type": "markdown",
   "id": "944d7a3d",
   "metadata": {},
   "source": [
    "$$ M\\left(X\\right)=\\frac{a+b}{2}=\\frac{0,5+2}{2}=1,25 $$"
   ]
  },
  {
   "cell_type": "markdown",
   "id": "f631dcd4",
   "metadata": {},
   "source": [
    "## Задание 3"
   ]
  },
  {
   "cell_type": "markdown",
   "id": "6e7cd31b",
   "metadata": {},
   "source": [
    "$$ f\\left(x\\right)=\\frac{1}{4\\sqrt{2\\pi }}\\cdot e^{-\\frac{\\left(x+2\\right)^{22}}{32}} $$"
   ]
  },
  {
   "cell_type": "markdown",
   "id": "43353d3c",
   "metadata": {},
   "source": [
    "Исходя из формулы нормального распределения:"
   ]
  },
  {
   "cell_type": "markdown",
   "id": "46e15052",
   "metadata": {},
   "source": [
    "$$ D\\left(X\\right)=16 $$"
   ]
  },
  {
   "cell_type": "markdown",
   "id": "68758e81",
   "metadata": {},
   "source": [
    "$$ M\\left(X\\right)=-2 $$"
   ]
  },
  {
   "cell_type": "markdown",
   "id": "e21539a9",
   "metadata": {},
   "source": [
    "$$ std\\left(X\\right)=4 $$"
   ]
  },
  {
   "cell_type": "markdown",
   "id": "2620cfe0",
   "metadata": {},
   "source": [
    "## Задание 4"
   ]
  },
  {
   "cell_type": "code",
   "execution_count": null,
   "id": "f4895def",
   "metadata": {},
   "outputs": [],
   "source": [
    "г). от 166 см до 182 см\n",
    "д). от 158 см до 190 см\n",
    "е). не выше 150 см или не ниже 190 см\n",
    "ё). не выше 150 см или не ниже 198 см\n",
    "ж). ниже 166 см.\n"
   ]
  },
  {
   "cell_type": "markdown",
   "id": "57a063b2",
   "metadata": {},
   "source": [
    "Воспользуемся следующими правилами вычисления разброса значений нормально распределённой случайной\n",
    "величины\n",
    "\n",
    "От µ − σ до µ + σ (стандартное отклонение) - около 68% массы\n",
    "\n",
    "От µ − 2σ до µ + 2σ — около 95% массы\n",
    "\n",
    "От µ − 3σ до µ + 3σ — около 99.7% массы"
   ]
  },
  {
   "cell_type": "markdown",
   "id": "66892bbc",
   "metadata": {},
   "source": [
    "а) 182 = µ + σ\n",
    "\n",
    "P(X) = (100-68)/2 = 16%\n",
    "\n",
    "б) 190 = µ + 2σ\n",
    "\n",
    "P(X) = (100-95)/2 = 2,5%\n",
    "\n",
    "в) от 166 см до 190 см - от µ − σ до µ + 2σ\n",
    "\n",
    "P(X) = 68/2 + 95/2 = 81,5%\n",
    "\n",
    "г) от 166 см до 182 см - от µ − σ до µ + σ\n",
    "\n",
    "P(X) = 68%\n",
    "\n",
    "д) от 158 см до 190 см - от µ − 2σ до µ + 2σ\n",
    "\n",
    "P(X) = 95%\n",
    "\n",
    "е) не выше 150 см или не ниже 190 см\n",
    "\n",
    "P(X) = (100-99,7)/2 + (100-95)/2 = 0,15 + 1,25 = 1,4%\n",
    "\n",
    "ё) не выше 150 см или не ниже 198 см\n",
    "\n",
    "P(X) = 100-99,7 = 0,3%\n",
    "\n",
    "ж) ниже 166 см\n",
    "\n",
    "P(X) = (100-68)/2 = 16%"
   ]
  },
  {
   "cell_type": "markdown",
   "id": "4b1ece99",
   "metadata": {},
   "source": [
    "## Задание 5"
   ]
  },
  {
   "cell_type": "markdown",
   "id": "0b30b414",
   "metadata": {},
   "source": [
    "$$ \\sigma =\\sqrt{D\\left(X\\right)}=\\sqrt{25}=5 $$"
   ]
  },
  {
   "cell_type": "markdown",
   "id": "a961424a",
   "metadata": {},
   "source": [
    "Количество средних квадратичных отклонений:"
   ]
  },
  {
   "cell_type": "markdown",
   "id": "ba2c956b",
   "metadata": {},
   "source": [
    "n = (190-178)/5 = 4,4"
   ]
  }
 ],
 "metadata": {
  "kernelspec": {
   "display_name": "Python 3",
   "language": "python",
   "name": "python3"
  },
  "language_info": {
   "codemirror_mode": {
    "name": "ipython",
    "version": 3
   },
   "file_extension": ".py",
   "mimetype": "text/x-python",
   "name": "python",
   "nbconvert_exporter": "python",
   "pygments_lexer": "ipython3",
   "version": "3.8.8"
  }
 },
 "nbformat": 4,
 "nbformat_minor": 5
}
