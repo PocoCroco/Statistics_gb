{
 "cells": [
  {
   "cell_type": "markdown",
   "id": "ae17c9ab",
   "metadata": {},
   "source": [
    "## Задача 1&2"
   ]
  },
  {
   "cell_type": "code",
   "execution_count": 41,
   "id": "38cc17e1",
   "metadata": {},
   "outputs": [],
   "source": [
    "import numpy as np"
   ]
  },
  {
   "cell_type": "code",
   "execution_count": 42,
   "id": "51e72a0a",
   "metadata": {},
   "outputs": [],
   "source": [
    "import pandas as pd"
   ]
  },
  {
   "cell_type": "markdown",
   "id": "4fe6adae",
   "metadata": {},
   "source": [
    "Построим закон распределения случайной величины X с помощью формулы Бернулли"
   ]
  },
  {
   "cell_type": "markdown",
   "id": "17b8d56e",
   "metadata": {},
   "source": [
    "p = O,25 ; n = 5 (кол-во вопросов) ; k - количество правильных ответов"
   ]
  },
  {
   "cell_type": "code",
   "execution_count": 43,
   "id": "9e96884c",
   "metadata": {},
   "outputs": [],
   "source": [
    "def combinations(n, k):\n",
    "    return np.math.factorial(n) // (np.math.factorial(k) * np.math.factorial(n - k))"
   ]
  },
  {
   "cell_type": "code",
   "execution_count": 44,
   "id": "637b5904",
   "metadata": {},
   "outputs": [],
   "source": [
    "p = 0.25\n",
    "n = 5\n",
    "probabilities = []"
   ]
  },
  {
   "cell_type": "code",
   "execution_count": 45,
   "id": "81ed878f",
   "metadata": {},
   "outputs": [],
   "source": [
    "for k in range(0, 6):\n",
    "    x = combinations(n, k) * np.power(p, k) * np.power(1-p, n-k)\n",
    "    probabilities.append(x)"
   ]
  },
  {
   "cell_type": "code",
   "execution_count": 46,
   "id": "b2b5454a",
   "metadata": {},
   "outputs": [
    {
     "data": {
      "text/plain": [
       "[0.2373046875,\n",
       " 0.3955078125,\n",
       " 0.263671875,\n",
       " 0.087890625,\n",
       " 0.0146484375,\n",
       " 0.0009765625]"
      ]
     },
     "execution_count": 46,
     "metadata": {},
     "output_type": "execute_result"
    }
   ],
   "source": [
    "probabilities"
   ]
  },
  {
   "cell_type": "code",
   "execution_count": 47,
   "id": "8f379e81",
   "metadata": {
    "scrolled": true
   },
   "outputs": [
    {
     "data": {
      "text/html": [
       "<div>\n",
       "<style scoped>\n",
       "    .dataframe tbody tr th:only-of-type {\n",
       "        vertical-align: middle;\n",
       "    }\n",
       "\n",
       "    .dataframe tbody tr th {\n",
       "        vertical-align: top;\n",
       "    }\n",
       "\n",
       "    .dataframe thead th {\n",
       "        text-align: right;\n",
       "    }\n",
       "</style>\n",
       "<table border=\"1\" class=\"dataframe\">\n",
       "  <thead>\n",
       "    <tr style=\"text-align: right;\">\n",
       "      <th></th>\n",
       "      <th>probability</th>\n",
       "    </tr>\n",
       "  </thead>\n",
       "  <tbody>\n",
       "    <tr>\n",
       "      <th>0</th>\n",
       "      <td>0.237305</td>\n",
       "    </tr>\n",
       "    <tr>\n",
       "      <th>1</th>\n",
       "      <td>0.395508</td>\n",
       "    </tr>\n",
       "    <tr>\n",
       "      <th>2</th>\n",
       "      <td>0.263672</td>\n",
       "    </tr>\n",
       "    <tr>\n",
       "      <th>3</th>\n",
       "      <td>0.087891</td>\n",
       "    </tr>\n",
       "    <tr>\n",
       "      <th>4</th>\n",
       "      <td>0.014648</td>\n",
       "    </tr>\n",
       "    <tr>\n",
       "      <th>5</th>\n",
       "      <td>0.000977</td>\n",
       "    </tr>\n",
       "  </tbody>\n",
       "</table>\n",
       "</div>"
      ],
      "text/plain": [
       "   probability\n",
       "0     0.237305\n",
       "1     0.395508\n",
       "2     0.263672\n",
       "3     0.087891\n",
       "4     0.014648\n",
       "5     0.000977"
      ]
     },
     "execution_count": 47,
     "metadata": {},
     "output_type": "execute_result"
    }
   ],
   "source": [
    "z = pd.DataFrame({'probability': probabilities})\n",
    "z"
   ]
  },
  {
   "cell_type": "code",
   "execution_count": 48,
   "id": "62bc4cac",
   "metadata": {},
   "outputs": [],
   "source": [
    "from matplotlib import pyplot as plt"
   ]
  },
  {
   "cell_type": "code",
   "execution_count": 49,
   "id": "f8d93806",
   "metadata": {},
   "outputs": [
    {
     "data": {
      "text/plain": [
       "[<matplotlib.lines.Line2D at 0x134e223a760>]"
      ]
     },
     "execution_count": 49,
     "metadata": {},
     "output_type": "execute_result"
    },
    {
     "data": {
      "image/png": "[encoded data removed]",
      "text/plain": [
       "<Figure size 432x288 with 1 Axes>"
      ]
     },
     "metadata": {
      "needs_background": "light"
     },
     "output_type": "display_data"
    }
   ],
   "source": [
    "plt.plot(z)"
   ]
  },
  {
   "cell_type": "markdown",
   "id": "224b0aa6",
   "metadata": {},
   "source": [
    "Математическое распределение M(X):"
   ]
  },
  {
   "cell_type": "code",
   "execution_count": 52,
   "id": "c9a85fa6",
   "metadata": {},
   "outputs": [
    {
     "name": "stdout",
     "output_type": "stream",
     "text": [
      "1.25\n"
     ]
    }
   ],
   "source": [
    "m = n*p\n",
    "print(m)"
   ]
  },
  {
   "cell_type": "markdown",
   "id": "3a93236e",
   "metadata": {},
   "source": [
    "Дисперсия D(X):"
   ]
  },
  {
   "cell_type": "code",
   "execution_count": 54,
   "id": "09fc458a",
   "metadata": {},
   "outputs": [
    {
     "name": "stdout",
     "output_type": "stream",
     "text": [
      "0.9375\n"
     ]
    }
   ],
   "source": [
    "d = n * p * (1-p)\n",
    "print(d)"
   ]
  },
  {
   "cell_type": "markdown",
   "id": "366011fb",
   "metadata": {},
   "source": [
    "## Задача 3"
   ]
  },
  {
   "cell_type": "code",
   "execution_count": 81,
   "id": "a5d56a4a",
   "metadata": {},
   "outputs": [],
   "source": [
    "from math import exp"
   ]
  },
  {
   "cell_type": "code",
   "execution_count": 97,
   "id": "1cec70dd",
   "metadata": {},
   "outputs": [],
   "source": [
    "probabilities = []"
   ]
  },
  {
   "cell_type": "code",
   "execution_count": 98,
   "id": "b44aadf6",
   "metadata": {},
   "outputs": [],
   "source": [
    "for i in range(0, 100):\n",
    "    x = np.power(10, i)/(exp(10)*np.math.factorial(i))\n",
    "    probabilities.append(x)"
   ]
  },
  {
   "cell_type": "code",
   "execution_count": 99,
   "id": "2303d49c",
   "metadata": {},
   "outputs": [],
   "source": [
    "tbl = pd.DataFrame({'probability': probabilities})"
   ]
  },
  {
   "cell_type": "code",
   "execution_count": 100,
   "id": "fceee890",
   "metadata": {},
   "outputs": [
    {
     "data": {
      "text/plain": [
       "[<matplotlib.lines.Line2D at 0x134e2656190>]"
      ]
     },
     "execution_count": 100,
     "metadata": {},
     "output_type": "execute_result"
    },
    {
     "data": {
      "image/png": "[encoded data removed]",
      "text/plain": [
       "<Figure size 432x288 with 1 Axes>"
      ]
     },
     "metadata": {
      "needs_background": "light"
     },
     "output_type": "display_data"
    }
   ],
   "source": [
    "plt.plot(tbl)"
   ]
  },
  {
   "cell_type": "markdown",
   "id": "beb33b85",
   "metadata": {},
   "source": [
    "Судя по данной таблице можно предположить, что вероятность 0,95 достигается при значении кол-ве писем n =< 10"
   ]
  }
 ],
 "metadata": {
  "kernelspec": {
   "display_name": "Python 3",
   "language": "python",
   "name": "python3"
  },
  "language_info": {
   "codemirror_mode": {
    "name": "ipython",
    "version": 3
   },
   "file_extension": ".py",
   "mimetype": "text/x-python",
   "name": "python",
   "nbconvert_exporter": "python",
   "pygments_lexer": "ipython3",
   "version": "3.8.8"
  }
 },
 "nbformat": 4,
 "nbformat_minor": 5
}
